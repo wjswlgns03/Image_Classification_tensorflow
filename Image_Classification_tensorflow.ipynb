{
 "cells": [
  {
   "cell_type": "markdown",
   "metadata": {},
   "source": [
    "# 이미지 분류기 프로젝트 (tensorflow 학습용으로 만든 프로젝트)"
   ]
  },
  {
   "cell_type": "code",
   "execution_count": 1,
   "metadata": {
    "id": "HVJ6xdXzfuYh"
   },
   "outputs": [],
   "source": [
    "import matplotlib.pyplot as plt\n",
    "def plot_loss(history):\n",
    "    plt.figure()\n",
    "    plt.plot(history.history['loss'])\n",
    "    plt.ylabel('MSE')\n",
    "    plt.xlabel('epochs')"
   ]
  },
  {
   "cell_type": "code",
   "execution_count": 2,
   "metadata": {
    "id": "nwajNsLOCxBm"
   },
   "outputs": [],
   "source": [
    "import tensorflow as tf\n",
    "from tensorflow import keras\n",
    "%matplotlib inline\n",
    "import matplotlib.pyplot as plt\n",
    "import numpy as np"
   ]
  },
  {
   "cell_type": "code",
   "execution_count": 3,
   "metadata": {
    "colab": {
     "base_uri": "https://localhost:8080/",
     "height": 36
    },
    "id": "NM0vi9zZCxBm",
    "outputId": "5fbcc69c-7ed3-4b4a-bf42-08073072a556"
   },
   "outputs": [
    {
     "data": {
      "application/vnd.google.colaboratory.intrinsic+json": {
       "type": "string"
      },
      "text/plain": [
       "'2.15.0'"
      ]
     },
     "execution_count": 3,
     "metadata": {},
     "output_type": "execute_result"
    }
   ],
   "source": [
    "tf.__version__"
   ]
  },
  {
   "cell_type": "code",
   "execution_count": null,
   "metadata": {
    "colab": {
     "base_uri": "https://localhost:8080/"
    },
    "id": "KBoAXMcTCxBn",
    "outputId": "b01332a6-04cd-465b-90ef-5e558c8ad6e5"
   },
   "outputs": [
    {
     "name": "stdout",
     "output_type": "stream",
     "text": [
      "Downloading data from https://storage.googleapis.com/tensorflow/tf-keras-datasets/train-labels-idx1-ubyte.gz\n",
      "29515/29515 [==============================] - 0s 0us/step\n",
      "Downloading data from https://storage.googleapis.com/tensorflow/tf-keras-datasets/train-images-idx3-ubyte.gz\n",
      "26421880/26421880 [==============================] - 2s 0us/step\n",
      "Downloading data from https://storage.googleapis.com/tensorflow/tf-keras-datasets/t10k-labels-idx1-ubyte.gz\n",
      "5148/5148 [==============================] - 0s 0us/step\n",
      "Downloading data from https://storage.googleapis.com/tensorflow/tf-keras-datasets/t10k-images-idx3-ubyte.gz\n",
      "4422102/4422102 [==============================] - 1s 0us/step\n"
     ]
    }
   ],
   "source": [
    "# fashion_mnist 데이터셋을 훈련 세트와 테스트 세트로 분리하여 로드\n",
    "# X_train_full: 전체 훈련 이미지 데이터\n",
    "# y_train_full: 전체 훈련 이미지에 대한 레이블\n",
    "# X_test: 테스트 이미지 데이터\n",
    "# y_test: 테스트 이미지에 대한 레이블\n",
    "\n",
    "fashion_mnist = keras.datasets.fashion_mnist  # 패션 MNIST 데이터셋을 로드 (28x28 픽셀의 흑백 이미지, 10개의 클래스)\n",
    "(X_train_full, y_train_full), (X_test, y_test) = fashion_mnist.load_data()"
   ]
  },
  {
   "cell_type": "markdown",
   "metadata": {
    "id": "tWXb3vcYCxBn"
   },
   "source": [
    "훈련 세트는 60,000개의 흑백 이미지이고, 각 이미지의 크기는 28x28 픽셀이다:"
   ]
  },
  {
   "cell_type": "code",
   "execution_count": 5,
   "metadata": {
    "colab": {
     "base_uri": "https://localhost:8080/"
    },
    "id": "7SRMKgGeCxBn",
    "outputId": "c7a88b20-5d46-4829-d5f0-784ac0f4b06f"
   },
   "outputs": [
    {
     "data": {
      "text/plain": [
       "(60000, 28, 28)"
      ]
     },
     "execution_count": 5,
     "metadata": {},
     "output_type": "execute_result"
    }
   ],
   "source": [
    "X_train_full.shape"
   ]
  },
  {
   "cell_type": "markdown",
   "metadata": {
    "id": "aWWSJE-BCxBo"
   },
   "source": [
    "데이터 분할을 위해 전체 훈련 세트를 검증 세트와 (조금 더 작은) 훈련 세트로 나누고\n",
    "데이터 정규화를 위해 픽셀 강도를 255로 나누어 0~1 범위의 실수(real number)로 바꿔야함"
   ]
  },
  {
   "cell_type": "code",
   "execution_count": null,
   "metadata": {
    "id": "2ULtu00YCxBo"
   },
   "outputs": [],
   "source": [
    "# 훈련 데이터(X_train_full)를 검증 세트(X_valid)와 훈련 세트(X_train)로 분리\n",
    "# X_train_full[:5000]: 처음 5000개의 데이터를 검증 세트로 사용 (픽셀 값을 0~1 사이로 정규화)\n",
    "# X_train_full[5000:]: 나머지 데이터를 훈련 세트로 사용 (픽셀 값을 0~1 사이로 정규화)\n",
    "X_valid, X_train = X_train_full[:5000] / 255., X_train_full[5000:] / 255.\n",
    "\n",
    "# 훈련 레이블(y_train_full)을 검증 세트(y_valid)와 훈련 세트(y_train)로 분리\n",
    "y_valid, y_train = y_train_full[:5000], y_train_full[5000:]\n",
    "\n",
    "# 테스트 세트(X_test)도 0~1 사이로 정규화 (픽셀 값을 255로 나누어 정규화)\n",
    "X_test = X_test / 255."
   ]
  },
  {
   "cell_type": "code",
   "execution_count": 8,
   "metadata": {
    "colab": {
     "base_uri": "https://localhost:8080/"
    },
    "id": "f9FCNgTo6sTg",
    "outputId": "5e037e91-e576-4cc6-828a-8d00e48b5e08"
   },
   "outputs": [
    {
     "data": {
      "text/plain": [
       "array([[0.        , 0.        , 0.        , 0.        , 0.        ,\n",
       "        0.        , 0.        , 0.        , 0.        , 0.        ,\n",
       "        0.        , 0.        , 0.        , 0.        , 0.        ,\n",
       "        0.        , 0.        , 0.        , 0.        , 0.00392157,\n",
       "        0.        , 0.        , 0.        , 0.        , 0.        ,\n",
       "        0.        , 0.        , 0.        ],\n",
       "       [0.        , 0.        , 0.        , 0.        , 0.        ,\n",
       "        0.        , 0.        , 0.        , 0.        , 0.        ,\n",
       "        0.        , 0.17254902, 0.49803922, 0.71372549, 0.7254902 ,\n",
       "        0.63137255, 0.47058824, 0.21568627, 0.        , 0.        ,\n",
       "        0.        , 0.        , 0.        , 0.        , 0.        ,\n",
       "        0.        , 0.        , 0.        ],\n",
       "       [0.        , 0.        , 0.        , 0.        , 0.        ,\n",
       "        0.        , 0.        , 0.        , 0.        , 0.16470588,\n",
       "        0.77647059, 0.98431373, 1.        , 0.98431373, 0.97647059,\n",
       "        0.96862745, 1.        , 0.98823529, 0.83921569, 0.39215686,\n",
       "        0.        , 0.        , 0.        , 0.        , 0.        ,\n",
       "        0.        , 0.        , 0.        ],\n",
       "       [0.        , 0.        , 0.        , 0.        , 0.        ,\n",
       "        0.        , 0.00784314, 0.        , 0.        , 0.91372549,\n",
       "        0.98823529, 0.92941176, 0.9372549 , 0.91764706, 0.92941176,\n",
       "        0.92156863, 0.92941176, 0.92941176, 0.99607843, 0.89019608,\n",
       "        0.        , 0.        , 0.        , 0.        , 0.00392157,\n",
       "        0.        , 0.        , 0.        ],\n",
       "       [0.        , 0.        , 0.        , 0.        , 0.        ,\n",
       "        0.00784314, 0.        , 0.        , 0.0627451 , 0.82352941,\n",
       "        0.88235294, 0.84313725, 0.68627451, 0.85098039, 0.84705882,\n",
       "        0.75686275, 0.76862745, 0.88627451, 0.86666667, 0.81960784,\n",
       "        0.19607843, 0.        , 0.        , 0.00784314, 0.        ,\n",
       "        0.        , 0.        , 0.        ],\n",
       "       [0.        , 0.        , 0.        , 0.        , 0.00784314,\n",
       "        0.        , 0.        , 0.78039216, 0.89803922, 0.90980392,\n",
       "        0.90196078, 0.96078431, 0.8       , 0.85882353, 0.99215686,\n",
       "        0.96078431, 0.81176471, 0.76078431, 0.8745098 , 0.90588235,\n",
       "        0.9254902 , 0.92156863, 0.        , 0.        , 0.01176471,\n",
       "        0.        , 0.        , 0.        ],\n",
       "       [0.        , 0.        , 0.        , 0.        , 0.00392157,\n",
       "        0.        , 0.5372549 , 0.92156863, 0.8       , 0.81960784,\n",
       "        0.78823529, 0.81960784, 0.91764706, 0.74509804, 0.91764706,\n",
       "        0.85490196, 0.84313725, 0.93333333, 0.9372549 , 0.8       ,\n",
       "        0.74117647, 0.87843137, 0.60392157, 0.        , 0.        ,\n",
       "        0.        , 0.        , 0.        ],\n",
       "       [0.        , 0.        , 0.        , 0.        , 0.        ,\n",
       "        0.        , 0.76078431, 0.78823529, 0.78431373, 0.81960784,\n",
       "        0.79215686, 0.75686275, 0.80392157, 0.76078431, 0.71764706,\n",
       "        0.85490196, 0.90588235, 0.77254902, 0.6745098 , 0.70980392,\n",
       "        0.75686275, 0.80392157, 0.78039216, 0.        , 0.        ,\n",
       "        0.        , 0.        , 0.        ],\n",
       "       [0.        , 0.        , 0.        , 0.        , 0.        ,\n",
       "        0.01176471, 0.83137255, 0.79607843, 0.7372549 , 0.74117647,\n",
       "        0.76862745, 0.77647059, 0.77647059, 0.78823529, 0.76862745,\n",
       "        0.85098039, 0.70196078, 0.65490196, 0.71764706, 0.85098039,\n",
       "        0.77254902, 0.79215686, 0.85882353, 0.11764706, 0.        ,\n",
       "        0.        , 0.        , 0.        ],\n",
       "       [0.        , 0.        , 0.        , 0.        , 0.        ,\n",
       "        0.13333333, 0.88235294, 0.78431373, 0.76078431, 0.74509804,\n",
       "        0.7372549 , 0.75294118, 0.76862745, 0.75294118, 0.66666667,\n",
       "        0.79215686, 0.74509804, 0.78823529, 0.76470588, 0.78431373,\n",
       "        0.78823529, 0.81960784, 0.89019608, 0.19607843, 0.        ,\n",
       "        0.        , 0.        , 0.        ],\n",
       "       [0.        , 0.        , 0.        , 0.        , 0.        ,\n",
       "        0.26666667, 0.88235294, 0.82352941, 0.82745098, 0.77647059,\n",
       "        0.75294118, 0.76862745, 0.8       , 0.76862745, 0.70980392,\n",
       "        0.83137255, 0.77254902, 0.76470588, 0.75294118, 0.80784314,\n",
       "        0.8627451 , 0.82352941, 0.89803922, 0.36470588, 0.        ,\n",
       "        0.        , 0.        , 0.        ],\n",
       "       [0.        , 0.        , 0.        , 0.        , 0.        ,\n",
       "        0.43529412, 0.8745098 , 0.89019608, 0.99215686, 0.81960784,\n",
       "        0.76862745, 0.8       , 0.82745098, 0.80784314, 0.71764706,\n",
       "        0.84705882, 0.80784314, 0.82352941, 0.79607843, 0.84313725,\n",
       "        0.95686275, 0.87843137, 0.89019608, 0.58823529, 0.        ,\n",
       "        0.        , 0.        , 0.        ],\n",
       "       [0.        , 0.        , 0.        , 0.        , 0.        ,\n",
       "        0.54509804, 0.88235294, 0.87843137, 1.        , 0.79215686,\n",
       "        0.80784314, 0.83137255, 0.81960784, 0.82745098, 0.74509804,\n",
       "        0.83529412, 0.79215686, 0.81176471, 0.80784314, 0.87058824,\n",
       "        1.        , 0.90196078, 0.8627451 , 0.74509804, 0.        ,\n",
       "        0.        , 0.        , 0.        ],\n",
       "       [0.        , 0.        , 0.        , 0.        , 0.        ,\n",
       "        0.70588235, 0.88627451, 0.87843137, 1.        , 0.78039216,\n",
       "        0.8       , 0.81176471, 0.83921569, 0.83921569, 0.74509804,\n",
       "        0.84705882, 0.80784314, 0.79607843, 0.80392157, 0.85882353,\n",
       "        0.95294118, 0.87843137, 0.83921569, 0.91764706, 0.        ,\n",
       "        0.        , 0.        , 0.        ],\n",
       "       [0.        , 0.        , 0.        , 0.        , 0.        ,\n",
       "        0.88235294, 0.8745098 , 0.89411765, 0.99607843, 0.81960784,\n",
       "        0.80784314, 0.81568627, 0.83529412, 0.82352941, 0.74901961,\n",
       "        0.84313725, 0.81176471, 0.8       , 0.81568627, 0.82745098,\n",
       "        0.97647059, 0.88627451, 0.83921569, 1.        , 0.14901961,\n",
       "        0.        , 0.        , 0.        ],\n",
       "       [0.        , 0.        , 0.        , 0.        , 0.        ,\n",
       "        0.98039216, 0.90980392, 0.94117647, 0.9372549 , 0.82745098,\n",
       "        0.79607843, 0.81960784, 0.80392157, 0.82745098, 0.77254902,\n",
       "        0.84313725, 0.81568627, 0.81568627, 0.83921569, 0.83529412,\n",
       "        0.9372549 , 0.90588235, 0.85882353, 1.        , 0.31764706,\n",
       "        0.        , 0.        , 0.        ],\n",
       "       [0.        , 0.        , 0.        , 0.        , 0.        ,\n",
       "        0.97254902, 0.9254902 , 0.96862745, 0.94117647, 0.79607843,\n",
       "        0.78431373, 0.81568627, 0.80784314, 0.83921569, 0.75686275,\n",
       "        0.83529412, 0.83137255, 0.81568627, 0.83137255, 0.82745098,\n",
       "        0.95294118, 0.94901961, 0.88235294, 0.99607843, 0.25882353,\n",
       "        0.        , 0.        , 0.        ],\n",
       "       [0.        , 0.        , 0.        , 0.        , 0.        ,\n",
       "        0.96862745, 0.90196078, 0.98823529, 0.88627451, 0.78039216,\n",
       "        0.82745098, 0.79215686, 0.82745098, 0.83529412, 0.71372549,\n",
       "        0.83529412, 0.83137255, 0.80784314, 0.79215686, 0.85882353,\n",
       "        0.81176471, 0.96862745, 0.87058824, 0.92941176, 0.40784314,\n",
       "        0.        , 0.        , 0.        ],\n",
       "       [0.        , 0.        , 0.        , 0.        , 0.03921569,\n",
       "        0.95686275, 0.85882353, 0.98039216, 0.80392157, 0.78039216,\n",
       "        0.81960784, 0.79215686, 0.81960784, 0.82745098, 0.74117647,\n",
       "        0.83921569, 0.80784314, 0.82352941, 0.78431373, 0.83137255,\n",
       "        0.60392157, 0.94117647, 0.81568627, 0.85882353, 0.54901961,\n",
       "        0.        , 0.        , 0.        ],\n",
       "       [0.        , 0.        , 0.        , 0.        , 0.08235294,\n",
       "        1.        , 0.87058824, 0.93333333, 0.72156863, 0.82352941,\n",
       "        0.75294118, 0.80784314, 0.81960784, 0.82352941, 0.74117647,\n",
       "        0.83529412, 0.82745098, 0.81960784, 0.75294118, 0.89411765,\n",
       "        0.60784314, 0.88627451, 0.93333333, 0.94509804, 0.65098039,\n",
       "        0.        , 0.        , 0.        ],\n",
       "       [0.        , 0.        , 0.        , 0.        , 0.14509804,\n",
       "        0.96078431, 0.88627451, 0.94509804, 0.58823529, 0.77254902,\n",
       "        0.74117647, 0.8       , 0.81960784, 0.82352941, 0.71764706,\n",
       "        0.83529412, 0.83529412, 0.78823529, 0.72156863, 0.84313725,\n",
       "        0.57254902, 0.84705882, 0.9254902 , 0.88235294, 0.60392157,\n",
       "        0.        , 0.        , 0.        ],\n",
       "       [0.        , 0.        , 0.        , 0.        , 0.22745098,\n",
       "        0.9372549 , 0.89019608, 1.        , 0.61960784, 0.75686275,\n",
       "        0.76470588, 0.8       , 0.81960784, 0.83529412, 0.70588235,\n",
       "        0.81176471, 0.85098039, 0.78039216, 0.76078431, 0.82745098,\n",
       "        0.61960784, 0.85882353, 0.9254902 , 0.84705882, 0.59215686,\n",
       "        0.        , 0.        , 0.        ],\n",
       "       [0.        , 0.        , 0.        , 0.        , 0.26666667,\n",
       "        0.91372549, 0.88627451, 0.95294118, 0.54509804, 0.78431373,\n",
       "        0.75686275, 0.80392157, 0.82352941, 0.81568627, 0.70588235,\n",
       "        0.80392157, 0.83137255, 0.79607843, 0.76862745, 0.84705882,\n",
       "        0.61568627, 0.70196078, 1.        , 0.84705882, 0.60784314,\n",
       "        0.        , 0.        , 0.        ],\n",
       "       [0.        , 0.        , 0.        , 0.        , 0.31764706,\n",
       "        0.88235294, 0.87843137, 0.82745098, 0.54117647, 0.85882353,\n",
       "        0.7254902 , 0.78823529, 0.83529412, 0.81176471, 0.77254902,\n",
       "        0.88627451, 0.83137255, 0.78431373, 0.74509804, 0.84313725,\n",
       "        0.71764706, 0.35294118, 1.        , 0.82745098, 0.57647059,\n",
       "        0.        , 0.        , 0.        ],\n",
       "       [0.        , 0.        , 0.        , 0.        , 0.35686275,\n",
       "        0.82352941, 0.90196078, 0.61960784, 0.44705882, 0.80392157,\n",
       "        0.73333333, 0.81568627, 0.81960784, 0.80784314, 0.75686275,\n",
       "        0.82352941, 0.82745098, 0.8       , 0.76470588, 0.8       ,\n",
       "        0.70980392, 0.09019608, 1.        , 0.83529412, 0.61960784,\n",
       "        0.        , 0.        , 0.        ],\n",
       "       [0.        , 0.        , 0.        , 0.        , 0.34117647,\n",
       "        0.80392157, 0.90980392, 0.42745098, 0.64313725, 1.        ,\n",
       "        0.83921569, 0.87843137, 0.87058824, 0.82352941, 0.77254902,\n",
       "        0.83921569, 0.88235294, 0.87058824, 0.82745098, 0.8627451 ,\n",
       "        0.85098039, 0.        , 0.91764706, 0.84705882, 0.6627451 ,\n",
       "        0.        , 0.        , 0.        ],\n",
       "       [0.        , 0.        , 0.        , 0.        , 0.36078431,\n",
       "        0.83529412, 0.90980392, 0.57254902, 0.01960784, 0.5254902 ,\n",
       "        0.59215686, 0.63529412, 0.66666667, 0.71764706, 0.71372549,\n",
       "        0.64313725, 0.65098039, 0.69803922, 0.63529412, 0.61176471,\n",
       "        0.38431373, 0.        , 0.94117647, 0.88235294, 0.82352941,\n",
       "        0.        , 0.        , 0.        ],\n",
       "       [0.        , 0.        , 0.        , 0.        , 0.16862745,\n",
       "        0.64313725, 0.80784314, 0.55294118, 0.        , 0.        ,\n",
       "        0.        , 0.        , 0.        , 0.        , 0.        ,\n",
       "        0.        , 0.        , 0.        , 0.        , 0.        ,\n",
       "        0.        , 0.        , 0.49803922, 0.49019608, 0.29803922,\n",
       "        0.        , 0.        , 0.        ]])"
      ]
     },
     "execution_count": 8,
     "metadata": {},
     "output_type": "execute_result"
    }
   ],
   "source": [
    "X_train = X_train_full[5000:] / 255.\n",
    "X_train[0]"
   ]
  },
  {
   "cell_type": "code",
   "execution_count": 9,
   "metadata": {
    "colab": {
     "base_uri": "https://localhost:8080/",
     "height": 406
    },
    "id": "iTnnyjqTCxBo",
    "outputId": "a1253504-b2d3-4880-bbcf-2e24e99f57fa"
   },
   "outputs": [
    {
     "data": {
      "image/png": "[encoded data removed]",
      "text/plain": [
       "<Figure size 640x480 with 1 Axes>"
      ]
     },
     "metadata": {},
     "output_type": "display_data"
    }
   ],
   "source": [
    "plt.imshow(X_train[0], cmap=\"binary\")\n",
    "plt.axis('off')\n",
    "plt.show()"
   ]
  },
  {
   "cell_type": "markdown",
   "metadata": {
    "id": "uSIW-PwrCxBp"
   },
   "source": [
    "레이블은 0에서 9까지 (uint8로 표현된) 클래스 아이디(id)이다:"
   ]
  },
  {
   "cell_type": "code",
   "execution_count": 10,
   "metadata": {
    "colab": {
     "base_uri": "https://localhost:8080/"
    },
    "id": "wMCKyjdOCxBp",
    "outputId": "6a3ee695-b8ad-479e-cb2b-c9a9cc2a89e2"
   },
   "outputs": [
    {
     "data": {
      "text/plain": [
       "array([4, 0, 7, ..., 3, 0, 5], dtype=uint8)"
      ]
     },
     "execution_count": 10,
     "metadata": {},
     "output_type": "execute_result"
    }
   ],
   "source": [
    "y_train"
   ]
  },
  {
   "cell_type": "markdown",
   "metadata": {},
   "source": [
    "분류할 클래스 이름들을 나열"
   ]
  },
  {
   "cell_type": "code",
   "execution_count": 11,
   "metadata": {
    "id": "6MjU3yY2CxBp"
   },
   "outputs": [],
   "source": [
    "class_names = [\"T-shirt/top\", \"Trouser\", \"Pullover\", \"Dress\", \"Coat\",\n",
    "               \"Sandal\", \"Shirt\", \"Sneaker\", \"Bag\", \"Ankle boot\"]"
   ]
  },
  {
   "cell_type": "markdown",
   "metadata": {
    "id": "U0fMZtvKCxBq"
   },
   "source": [
    "샘플 이미지 출력"
   ]
  },
  {
   "cell_type": "code",
   "execution_count": 15,
   "metadata": {
    "colab": {
     "base_uri": "https://localhost:8080/",
     "height": 428
    },
    "id": "Kkii9X4xCxBq",
    "outputId": "92d54d8c-b4d8-445b-d11e-623902a66c83"
   },
   "outputs": [
    {
     "data": {
      "image/png": "[encoded data removed]",
      "text/plain": [
       "<Figure size 1200x480 with 40 Axes>"
      ]
     },
     "metadata": {},
     "output_type": "display_data"
    }
   ],
   "source": [
    "n_rows = 4  # 출력할 이미지의 행(row) 수\n",
    "n_cols = 10  # 출력할 이미지의 열(column) 수\n",
    "plt.figure(figsize=(n_cols * 1.2, n_rows * 1.2))  # 전체 그림의 크기를 설정 (가로와 세로 비율 조정)\n",
    "\n",
    "for row in range(n_rows):  # 각 행에 대해 반복\n",
    "    for col in range(n_cols):  # 각 열에 대해 반복\n",
    "        index = n_cols * row + col  # 각 이미지의 인덱스 계산\n",
    "        plt.subplot(n_rows, n_cols, index + 1)  # 서브플롯을 생성 (4x10 레이아웃에 이미지를 배치)\n",
    "        plt.imshow(X_train[index], cmap=\"binary\", interpolation=\"nearest\")  # X_train에서 이미지를 가져와 이진(binary) 색상으로 출력\n",
    "        plt.axis('off')  # 축을 비활성화하여 깔끔한 이미지 출력\n",
    "        plt.title(class_names[y_train[index]], fontsize=12)  # 이미지 위에 해당 클래스 이름을 표시\n",
    "\n",
    "plt.subplots_adjust(wspace=0.2, hspace=0.5)  # 서브플롯 간의 가로, 세로 간격 조정\n",
    "#save_fig('fashion_mnist_plot', tight_layout=False)\n",
    "plt.show()  # 생성된 이미지를 화면에 출력\n"
   ]
  },
  {
   "cell_type": "code",
   "execution_count": 16,
   "metadata": {
    "id": "U9et9vnoCxBq"
   },
   "outputs": [],
   "source": [
    "np.random.seed(42)\n",
    "tf.random.set_seed(42)"
   ]
  },
  {
   "cell_type": "code",
   "execution_count": 17,
   "metadata": {
    "id": "d2OMsTXmCxBq"
   },
   "outputs": [],
   "source": [
    "model = keras.models.Sequential([\n",
    "    keras.layers.Flatten(input_shape=[28, 28]),  # 입력 데이터를 1차원 벡터로 변환하는 Flatten 레이어 (28x28 이미지를 펼침)\n",
    "    keras.layers.Dense(300, activation=\"relu\"),  # 300개의 뉴런을 가진 Dense 레이어, ReLU 활성화 함수 사용\n",
    "    keras.layers.Dense(100, activation=\"relu\"),  # 100개의 뉴런을 가진 Dense 레이어, ReLU 활성화 함수 사용\n",
    "    keras.layers.Dense(10, activation=\"softmax\") # 10개의 뉴런을 가진 출력층, softmax 활성화 함수 사용 (다중 클래스 분류)\n",
    "])\n"
   ]
  },
  {
   "cell_type": "code",
   "execution_count": 18,
   "metadata": {
    "colab": {
     "base_uri": "https://localhost:8080/"
    },
    "id": "pmZuSLGZFY9N",
    "outputId": "41efbd10-d43e-4ab1-9129-4af7c22c5e58"
   },
   "outputs": [
    {
     "data": {
      "text/plain": [
       "<keras.src.layers.reshaping.flatten.Flatten at 0x7ebbf2a62020>"
      ]
     },
     "execution_count": 18,
     "metadata": {},
     "output_type": "execute_result"
    }
   ],
   "source": [
    "h= model.layers[0]\n",
    "h"
   ]
  },
  {
   "cell_type": "code",
   "execution_count": 19,
   "metadata": {
    "colab": {
     "base_uri": "https://localhost:8080/"
    },
    "id": "gyDDtzJ4CxBr",
    "outputId": "80243b90-92bd-43a8-bb0e-5b73a81dc96a"
   },
   "outputs": [
    {
     "data": {
      "text/plain": [
       "[<keras.src.layers.reshaping.flatten.Flatten at 0x7ebbf2a62020>,\n",
       " <keras.src.layers.core.dense.Dense at 0x7ebbf29ae800>,\n",
       " <keras.src.layers.core.dense.Dense at 0x7ebbf29ae560>,\n",
       " <keras.src.layers.core.dense.Dense at 0x7ebbf29aef80>]"
      ]
     },
     "execution_count": 19,
     "metadata": {},
     "output_type": "execute_result"
    }
   ],
   "source": [
    "model.layers"
   ]
  },
  {
   "cell_type": "code",
   "execution_count": 20,
   "metadata": {
    "colab": {
     "base_uri": "https://localhost:8080/"
    },
    "id": "MCJrw-1wCxBr",
    "outputId": "8aad4fa5-60fe-4dd6-fb1a-80b8fcb4d7b1"
   },
   "outputs": [
    {
     "name": "stdout",
     "output_type": "stream",
     "text": [
      "Model: \"sequential\"\n",
      "_________________________________________________________________\n",
      " Layer (type)                Output Shape              Param #   \n",
      "=================================================================\n",
      " flatten (Flatten)           (None, 784)               0         \n",
      "                                                                 \n",
      " dense (Dense)               (None, 300)               235500    \n",
      "                                                                 \n",
      " dense_1 (Dense)             (None, 100)               30100     \n",
      "                                                                 \n",
      " dense_2 (Dense)             (None, 10)                1010      \n",
      "                                                                 \n",
      "=================================================================\n",
      "Total params: 266610 (1.02 MB)\n",
      "Trainable params: 266610 (1.02 MB)\n",
      "Non-trainable params: 0 (0.00 Byte)\n",
      "_________________________________________________________________\n"
     ]
    }
   ],
   "source": [
    "model.summary()"
   ]
  },
  {
   "cell_type": "markdown",
   "metadata": {
    "id": "0oJHvxOjZbjj"
   },
   "source": [
    "Flatten: 다차원 데이터를 1차원 벡터로 변환하는 레이어.\n",
    "\n",
    "\n",
    "Dense: 신경망에서 모든 입력 뉴런과 출력 뉴런이 완전히 연결된 레이어로, 가중치를 학습하여 예측을 수행하는 핵심 레이어."
   ]
  },
  {
   "cell_type": "code",
   "execution_count": 21,
   "metadata": {
    "colab": {
     "base_uri": "https://localhost:8080/",
     "height": 533
    },
    "id": "A2Tvbra4CxBr",
    "outputId": "ba28fce1-ad96-41df-8ef7-43c9900a0b98"
   },
   "outputs": [
    {
     "data": {
      "image/png": "[encoded data removed]",
      "text/plain": [
       "<IPython.core.display.Image object>"
      ]
     },
     "execution_count": 21,
     "metadata": {},
     "output_type": "execute_result"
    }
   ],
   "source": [
    "keras.utils.plot_model(model, \"my_fashion_mnist_model.png\", show_shapes=True)"
   ]
  },
  {
   "cell_type": "code",
   "execution_count": 22,
   "metadata": {
    "colab": {
     "base_uri": "https://localhost:8080/"
    },
    "id": "suQWUkbfCxBr",
    "outputId": "61b84ea7-943c-4a09-b283-185cbc1062bb"
   },
   "outputs": [
    {
     "name": "stdout",
     "output_type": "stream",
     "text": [
      "<keras.src.layers.core.dense.Dense object at 0x7ebbf29ae800>\n",
      "dense\n"
     ]
    }
   ],
   "source": [
    "hidden1 = model.layers[1]\n",
    "print(hidden1)\n",
    "print(hidden1.name)"
   ]
  },
  {
   "cell_type": "code",
   "execution_count": 23,
   "metadata": {
    "colab": {
     "base_uri": "https://localhost:8080/"
    },
    "id": "L6hd0ZAVzOYt",
    "outputId": "c87a8330-9358-4dea-e867-659312d8033f"
   },
   "outputs": [
    {
     "data": {
      "text/plain": [
       "<keras.src.layers.reshaping.flatten.Flatten at 0x7ebbf2a62020>"
      ]
     },
     "execution_count": 23,
     "metadata": {},
     "output_type": "execute_result"
    }
   ],
   "source": [
    "model.get_layer('flatten')"
   ]
  },
  {
   "cell_type": "code",
   "execution_count": 24,
   "metadata": {
    "colab": {
     "base_uri": "https://localhost:8080/"
    },
    "id": "ATU_qhaMza39",
    "outputId": "7e2f00dc-074b-4832-b908-2cee3ac8f547"
   },
   "outputs": [
    {
     "data": {
      "text/plain": [
       "<keras.src.layers.core.dense.Dense at 0x7ebbf29ae800>"
      ]
     },
     "execution_count": 24,
     "metadata": {},
     "output_type": "execute_result"
    }
   ],
   "source": [
    "model.get_layer('dense')"
   ]
  },
  {
   "cell_type": "code",
   "execution_count": 25,
   "metadata": {
    "colab": {
     "base_uri": "https://localhost:8080/"
    },
    "id": "1dZ9N5IYCxBr",
    "outputId": "9c736a78-cafb-4b8a-9845-a186e3b98812"
   },
   "outputs": [
    {
     "data": {
      "text/plain": [
       "True"
      ]
     },
     "execution_count": 25,
     "metadata": {},
     "output_type": "execute_result"
    }
   ],
   "source": [
    "model.get_layer(hidden1.name) is hidden1"
   ]
  },
  {
   "cell_type": "code",
   "execution_count": 26,
   "metadata": {
    "id": "VZlJdmSxCxBr"
   },
   "outputs": [],
   "source": [
    "weights, biases = hidden1.get_weights()"
   ]
  },
  {
   "cell_type": "code",
   "execution_count": 27,
   "metadata": {
    "colab": {
     "base_uri": "https://localhost:8080/"
    },
    "id": "hC1IaWvqCxBr",
    "outputId": "1b308d64-0862-4956-f893-566d80769f0f"
   },
   "outputs": [
    {
     "data": {
      "text/plain": [
       "array([[-0.01769766,  0.06723645, -0.07246545, ...,  0.03089665,\n",
       "        -0.05066   , -0.04126167],\n",
       "       [-0.06887997, -0.01179095,  0.07033262, ..., -0.03450217,\n",
       "         0.01917403,  0.01810709],\n",
       "       [-0.03810258, -0.04412942, -0.00033744, ..., -0.0025503 ,\n",
       "        -0.05672675, -0.03727211],\n",
       "       ...,\n",
       "       [ 0.00675113,  0.0527173 , -0.05718885, ...,  0.07430601,\n",
       "         0.02835082,  0.05347224],\n",
       "       [ 0.06429374,  0.0525482 , -0.03745351, ..., -0.0650167 ,\n",
       "        -0.05736915, -0.06974889],\n",
       "       [-0.01681247, -0.05888068,  0.03825186, ...,  0.01122031,\n",
       "         0.07345662, -0.06414219]], dtype=float32)"
      ]
     },
     "execution_count": 27,
     "metadata": {},
     "output_type": "execute_result"
    }
   ],
   "source": [
    "weights"
   ]
  },
  {
   "cell_type": "code",
   "execution_count": 28,
   "metadata": {
    "colab": {
     "base_uri": "https://localhost:8080/"
    },
    "id": "24U2k4EBCxBr",
    "outputId": "c0de9370-ed3c-4df3-a91b-2b68e5e6bad5"
   },
   "outputs": [
    {
     "data": {
      "text/plain": [
       "(784, 300)"
      ]
     },
     "execution_count": 28,
     "metadata": {},
     "output_type": "execute_result"
    }
   ],
   "source": [
    "weights.shape"
   ]
  },
  {
   "cell_type": "code",
   "execution_count": 29,
   "metadata": {
    "colab": {
     "base_uri": "https://localhost:8080/"
    },
    "id": "7C6abi7sCxBr",
    "outputId": "577f7e1a-2876-4a6b-a264-01fc9ad65ca1"
   },
   "outputs": [
    {
     "data": {
      "text/plain": [
       "array([0., 0., 0., 0., 0., 0., 0., 0., 0., 0., 0., 0., 0., 0., 0., 0., 0.,\n",
       "       0., 0., 0., 0., 0., 0., 0., 0., 0., 0., 0., 0., 0., 0., 0., 0., 0.,\n",
       "       0., 0., 0., 0., 0., 0., 0., 0., 0., 0., 0., 0., 0., 0., 0., 0., 0.,\n",
       "       0., 0., 0., 0., 0., 0., 0., 0., 0., 0., 0., 0., 0., 0., 0., 0., 0.,\n",
       "       0., 0., 0., 0., 0., 0., 0., 0., 0., 0., 0., 0., 0., 0., 0., 0., 0.,\n",
       "       0., 0., 0., 0., 0., 0., 0., 0., 0., 0., 0., 0., 0., 0., 0., 0., 0.,\n",
       "       0., 0., 0., 0., 0., 0., 0., 0., 0., 0., 0., 0., 0., 0., 0., 0., 0.,\n",
       "       0., 0., 0., 0., 0., 0., 0., 0., 0., 0., 0., 0., 0., 0., 0., 0., 0.,\n",
       "       0., 0., 0., 0., 0., 0., 0., 0., 0., 0., 0., 0., 0., 0., 0., 0., 0.,\n",
       "       0., 0., 0., 0., 0., 0., 0., 0., 0., 0., 0., 0., 0., 0., 0., 0., 0.,\n",
       "       0., 0., 0., 0., 0., 0., 0., 0., 0., 0., 0., 0., 0., 0., 0., 0., 0.,\n",
       "       0., 0., 0., 0., 0., 0., 0., 0., 0., 0., 0., 0., 0., 0., 0., 0., 0.,\n",
       "       0., 0., 0., 0., 0., 0., 0., 0., 0., 0., 0., 0., 0., 0., 0., 0., 0.,\n",
       "       0., 0., 0., 0., 0., 0., 0., 0., 0., 0., 0., 0., 0., 0., 0., 0., 0.,\n",
       "       0., 0., 0., 0., 0., 0., 0., 0., 0., 0., 0., 0., 0., 0., 0., 0., 0.,\n",
       "       0., 0., 0., 0., 0., 0., 0., 0., 0., 0., 0., 0., 0., 0., 0., 0., 0.,\n",
       "       0., 0., 0., 0., 0., 0., 0., 0., 0., 0., 0., 0., 0., 0., 0., 0., 0.,\n",
       "       0., 0., 0., 0., 0., 0., 0., 0., 0., 0., 0.], dtype=float32)"
      ]
     },
     "execution_count": 29,
     "metadata": {},
     "output_type": "execute_result"
    }
   ],
   "source": [
    "biases"
   ]
  },
  {
   "cell_type": "code",
   "execution_count": 30,
   "metadata": {
    "colab": {
     "base_uri": "https://localhost:8080/"
    },
    "id": "sHMWe7CsCxBs",
    "outputId": "a870d56b-9ca0-4c00-db28-32f5dfbbcff9"
   },
   "outputs": [
    {
     "data": {
      "text/plain": [
       "(300,)"
      ]
     },
     "execution_count": 30,
     "metadata": {},
     "output_type": "execute_result"
    }
   ],
   "source": [
    "biases.shape"
   ]
  },
  {
   "cell_type": "code",
   "execution_count": 31,
   "metadata": {
    "id": "NIQ9fjkKCxBs"
   },
   "outputs": [],
   "source": [
    "# 모델을 컴파일하여 학습할 수 있도록 준비\n",
    "model.compile(\n",
    "    loss=\"sparse_categorical_crossentropy\",  # 손실 함수로 sparse_categorical_crossentropy 사용: 다중 클래스 분류 문제에 적합\n",
    "    optimizer=\"sgd\",                         # 옵티마이저로 SGD(확률적 경사 하강법)를 사용하여 가중치 업데이트\n",
    "    metrics=[\"accuracy\"]                     # 평가 지표로 정확도를 사용하여 학습 중에 정확도를 확인\n",
    ")\n"
   ]
  },
  {
   "cell_type": "markdown",
   "metadata": {
    "id": "_ySQrpOHCxBs"
   },
   "source": [
    "위 코드는 다음과 같다:"
   ]
  },
  {
   "cell_type": "markdown",
   "metadata": {
    "id": "lEm5BvE3CxBs"
   },
   "source": [
    "```python\n",
    "model.compile(loss=keras.losses.sparse_categorical_crossentropy,\n",
    "              optimizer=keras.optimizers.SGD(),\n",
    "              metrics=[keras.metrics.sparse_categorical_accuracy])\n",
    "```"
   ]
  },
  {
   "cell_type": "code",
   "execution_count": 32,
   "metadata": {
    "colab": {
     "base_uri": "https://localhost:8080/"
    },
    "id": "DsFsCGzDCxBs",
    "outputId": "7abd4772-bf82-4a08-a1d2-e5db1e875ca8"
   },
   "outputs": [
    {
     "name": "stdout",
     "output_type": "stream",
     "text": [
      "Epoch 1/10\n",
      "1100/1100 [==============================] - 5s 3ms/step - loss: 0.8156 - accuracy: 0.7393 - val_loss: 0.5540 - val_accuracy: 0.8158\n",
      "Epoch 2/10\n",
      "1100/1100 [==============================] - 4s 3ms/step - loss: 0.5228 - accuracy: 0.8215 - val_loss: 0.4752 - val_accuracy: 0.8390\n",
      "Epoch 3/10\n",
      "1100/1100 [==============================] - 3s 3ms/step - loss: 0.4726 - accuracy: 0.8351 - val_loss: 0.4703 - val_accuracy: 0.8288\n",
      "Epoch 4/10\n",
      "1100/1100 [==============================] - 3s 3ms/step - loss: 0.4435 - accuracy: 0.8461 - val_loss: 0.4227 - val_accuracy: 0.8564\n",
      "Epoch 5/10\n",
      "1100/1100 [==============================] - 3s 3ms/step - loss: 0.4242 - accuracy: 0.8524 - val_loss: 0.4029 - val_accuracy: 0.8604\n",
      "Epoch 6/10\n",
      "1100/1100 [==============================] - 4s 3ms/step - loss: 0.4077 - accuracy: 0.8579 - val_loss: 0.3963 - val_accuracy: 0.8668\n",
      "Epoch 7/10\n",
      "1100/1100 [==============================] - 3s 3ms/step - loss: 0.3957 - accuracy: 0.8630 - val_loss: 0.3882 - val_accuracy: 0.8696\n",
      "Epoch 8/10\n",
      "1100/1100 [==============================] - 3s 3ms/step - loss: 0.3837 - accuracy: 0.8664 - val_loss: 0.4213 - val_accuracy: 0.8520\n",
      "Epoch 9/10\n",
      "1100/1100 [==============================] - 3s 3ms/step - loss: 0.3740 - accuracy: 0.8698 - val_loss: 0.3715 - val_accuracy: 0.8666\n",
      "Epoch 10/10\n",
      "1100/1100 [==============================] - 4s 4ms/step - loss: 0.3659 - accuracy: 0.8712 - val_loss: 0.3705 - val_accuracy: 0.8716\n"
     ]
    }
   ],
   "source": [
    "history = model.fit(X_train, y_train,  # 훈련 데이터와 훈련 레이블을 사용하여 모델을 학습\n",
    "                    epochs=10,          # 모델을 10번 반복하여 학습\n",
    "                    batch_size=50,      # 배치 크기를 50으로 설정 (한 번에 50개의 샘플을 처리)\n",
    "                    validation_data=(X_valid, y_valid))  # 검증 데이터와 검증 레이블을 사용하여 검증 수행\n"
   ]
  },
  {
   "cell_type": "markdown",
   "metadata": {
    "id": "DHNLMXmfUev7"
   },
   "source": [
    "모델은 10 에포크 동안 학습되었으며, 각 에포크 당 **1,100번의 배치(steps)**로 데이터를 나누어 학습\n",
    "\n",
    "verbose는 학습 과정 중에 출력할 정보를 자동으로 결정"
   ]
  },
  {
   "cell_type": "code",
   "execution_count": 33,
   "metadata": {
    "colab": {
     "base_uri": "https://localhost:8080/"
    },
    "id": "6waqs1mJCxBs",
    "outputId": "b9699f03-490f-44ea-8b76-5ca9516d5274"
   },
   "outputs": [
    {
     "data": {
      "text/plain": [
       "{'verbose': 1, 'epochs': 10, 'steps': 1100}"
      ]
     },
     "execution_count": 33,
     "metadata": {},
     "output_type": "execute_result"
    }
   ],
   "source": [
    "# history 객체의 파라미터 확인\n",
    "history.params"
   ]
  },
  {
   "cell_type": "code",
   "execution_count": 34,
   "metadata": {
    "colab": {
     "base_uri": "https://localhost:8080/",
     "height": 449
    },
    "id": "CXvXq9pVgoeK",
    "outputId": "c4d68a83-5066-4854-d84e-e45586aa91c9"
   },
   "outputs": [
    {
     "data": {
      "image/png": "[encoded data removed]",
      "text/plain": [
       "<Figure size 640x480 with 1 Axes>"
      ]
     },
     "metadata": {},
     "output_type": "display_data"
    }
   ],
   "source": [
    "plot_loss(history)  # 학습 과정 동안 손실 값의 변화를 그래프로 시각화"
   ]
  },
  {
   "cell_type": "markdown",
   "metadata": {
    "id": "cSBkoh1n1ajt"
   },
   "source": [
    "* epochs : 30 => 전체 데이터를 30번 학습을 시켰음.\n",
    "* steps: 1719 => 각 epoch에서 몇번이나 weights을 업데이트 했는지를 나타냄. \n",
    "\n",
    "즉 전체 데이터를 batch로 나누어 수행하여, back propagation을 시행한 횟수이다. \n",
    "예를 들어 , 학습을 위해 fit을 수행 할때, batch_size=50을 주면, 한 batch에 50개의 데이터셋을 forward feed한 후 \n",
    "이에 대한 평균을 가지고 backpropagation을 하게 된다."
   ]
  },
  {
   "cell_type": "code",
   "execution_count": 35,
   "metadata": {
    "colab": {
     "base_uri": "https://localhost:8080/"
    },
    "id": "BN5fl7jZCxBs",
    "outputId": "8e158295-1c8d-4c59-c8e7-6c60b4a1d44c"
   },
   "outputs": [
    {
     "data": {
      "text/plain": [
       "dict_keys(['loss', 'accuracy', 'val_loss', 'val_accuracy'])"
      ]
     },
     "execution_count": 35,
     "metadata": {},
     "output_type": "execute_result"
    }
   ],
   "source": [
    "history.history.keys()  # 학습 중 기록된 메트릭(손실 및 정확도 등)의 키 목록을 반환"
   ]
  },
  {
   "cell_type": "code",
   "execution_count": 36,
   "metadata": {
    "colab": {
     "base_uri": "https://localhost:8080/"
    },
    "id": "S4dMV0SU4Vr6",
    "outputId": "10d4767b-a5c3-4238-9001-2afb8be26bcc"
   },
   "outputs": [
    {
     "data": {
      "text/plain": [
       "[0.8155521750450134,\n",
       " 0.5228336453437805,\n",
       " 0.47262102365493774,\n",
       " 0.4434738755226135,\n",
       " 0.42417699098587036,\n",
       " 0.4077078700065613,\n",
       " 0.3957369327545166,\n",
       " 0.38366690278053284,\n",
       " 0.37404900789260864,\n",
       " 0.3658734858036041]"
      ]
     },
     "execution_count": 36,
     "metadata": {},
     "output_type": "execute_result"
    }
   ],
   "source": [
    "history.history['loss']  # 각 에포크(epoch)에서 계산된 훈련 손실 값의 리스트를 반환"
   ]
  },
  {
   "cell_type": "code",
   "execution_count": 37,
   "metadata": {
    "colab": {
     "base_uri": "https://localhost:8080/",
     "height": 451
    },
    "id": "YRw4Z4akCxBt",
    "outputId": "c4b37a37-d0a5-477a-ade5-7ca2bc14b2f1"
   },
   "outputs": [
    {
     "data": {
      "image/png": "[encoded data removed]",
      "text/plain": [
       "<Figure size 800x500 with 1 Axes>"
      ]
     },
     "metadata": {},
     "output_type": "display_data"
    }
   ],
   "source": [
    "import pandas as pd\n",
    "\n",
    "# 학습 곡선(에포크에 따른 손실/정확도)\n",
    "pd.DataFrame(history.history).plot(figsize=(8, 5))\n",
    "\n",
    "# 플롯에 그리드 추가\n",
    "plt.grid(True)\n",
    "\n",
    "# 손실이나 정확도 값을 확인하기 위해 플롯의 y축 범위를 0에서 1로 설정\n",
    "plt.gca().set_ylim(0, 1)\n",
    "\n",
    "#save_fig(\"keras_learning_curves_plot\")\n",
    "\n",
    "plt.show()\n"
   ]
  },
  {
   "cell_type": "code",
   "execution_count": 38,
   "metadata": {
    "colab": {
     "base_uri": "https://localhost:8080/"
    },
    "id": "8j7QxlMBCxBt",
    "outputId": "81abd8a0-3a84-42b0-ec90-e200bb19eb55"
   },
   "outputs": [
    {
     "name": "stdout",
     "output_type": "stream",
     "text": [
      "313/313 [==============================] - 1s 2ms/step - loss: 0.4084 - accuracy: 0.8569\n"
     ]
    },
    {
     "data": {
      "text/plain": [
       "[0.4084317982196808, 0.8568999767303467]"
      ]
     },
     "execution_count": 38,
     "metadata": {},
     "output_type": "execute_result"
    }
   ],
   "source": [
    "model.evaluate(X_test, y_test)"
   ]
  },
  {
   "cell_type": "code",
   "execution_count": 39,
   "metadata": {
    "colab": {
     "base_uri": "https://localhost:8080/"
    },
    "id": "3tA0DKQMCxBt",
    "outputId": "fd2fc08b-10a2-464c-b61f-ec46a5442958"
   },
   "outputs": [
    {
     "name": "stdout",
     "output_type": "stream",
     "text": [
      "1/1 [==============================] - 0s 76ms/step\n"
     ]
    },
    {
     "data": {
      "text/plain": [
       "array([[0.  , 0.  , 0.  , 0.  , 0.  , 0.08, 0.  , 0.09, 0.  , 0.83],\n",
       "       [0.  , 0.  , 0.98, 0.  , 0.  , 0.  , 0.02, 0.  , 0.  , 0.  ],\n",
       "       [0.  , 1.  , 0.  , 0.  , 0.  , 0.  , 0.  , 0.  , 0.  , 0.  ]],\n",
       "      dtype=float32)"
      ]
     },
     "execution_count": 39,
     "metadata": {},
     "output_type": "execute_result"
    }
   ],
   "source": [
    "# 테스트 데이터에서 첫 3개의 샘플을 선택\n",
    "X_new = X_test[:3]\n",
    "\n",
    "# 선택한 3개의 샘플에 대해 모델이 각 클래스에 대한 확률을 예측\n",
    "y_proba = model.predict(X_new)\n",
    "\n",
    "# 예측된 확률 값을 소수점 두 자리로 반올림하여 출력\n",
    "y_proba.round(2)"
   ]
  },
  {
   "cell_type": "markdown",
   "metadata": {
    "id": "FsUFAzIP5l5_"
   },
   "source": [
    "혹은 다음과 같이 예측을 해 볼수 있습니다.\n"
   ]
  },
  {
   "cell_type": "code",
   "execution_count": 40,
   "metadata": {
    "colab": {
     "base_uri": "https://localhost:8080/"
    },
    "id": "izVTwWvRCxBv",
    "outputId": "fc57a276-8363-4469-f6ea-84652dda3cb0"
   },
   "outputs": [
    {
     "name": "stdout",
     "output_type": "stream",
     "text": [
      "1/1 [==============================] - 0s 19ms/step\n"
     ]
    },
    {
     "data": {
      "text/plain": [
       "array([9, 2, 1])"
      ]
     },
     "execution_count": 40,
     "metadata": {},
     "output_type": "execute_result"
    }
   ],
   "source": [
    "# y_pred = model.predict_classes(X_new)\n",
    "y_pred = np.argmax(model.predict(X_new), axis=-1) # argmax는 배열에서 최대값의 인덱스를 반환하는 함수\n",
    "y_pred"
   ]
  },
  {
   "cell_type": "code",
   "execution_count": 41,
   "metadata": {
    "colab": {
     "base_uri": "https://localhost:8080/"
    },
    "id": "Ojbm43dFCxBv",
    "outputId": "667528a9-0fbe-4433-981e-02593bb27824"
   },
   "outputs": [
    {
     "data": {
      "text/plain": [
       "array(['Ankle boot', 'Pullover', 'Trouser'], dtype='<U11')"
      ]
     },
     "execution_count": 41,
     "metadata": {},
     "output_type": "execute_result"
    }
   ],
   "source": [
    "np.array(class_names)[y_pred]"
   ]
  },
  {
   "cell_type": "markdown",
   "metadata": {
    "id": "ZsD3rLkd6v2S"
   },
   "source": [
    "**코드 해설** : array에 대한 인덱싱에서, 단일 인덱스를 주는 방법외에 복수의 인덱스를 하나의 array에 넣어 인덱싱 할수 있다."
   ]
  },
  {
   "cell_type": "code",
   "execution_count": 42,
   "metadata": {
    "colab": {
     "base_uri": "https://localhost:8080/"
    },
    "id": "4DMZLBJr5ztH",
    "outputId": "44c6eaf9-4fa0-4ce7-b583-52daa2f31b76"
   },
   "outputs": [
    {
     "data": {
      "text/plain": [
       "array(['Trouser', 'Ankle boot'], dtype='<U11')"
      ]
     },
     "execution_count": 42,
     "metadata": {},
     "output_type": "execute_result"
    }
   ],
   "source": [
    "np.array(class_names)[np.array([1, 9])]"
   ]
  },
  {
   "cell_type": "markdown",
   "metadata": {
    "id": "O05TqSZP7NMM"
   },
   "source": [
    "그리고 실제 정답을 살펴보면 다음과 같다."
   ]
  },
  {
   "cell_type": "code",
   "execution_count": 43,
   "metadata": {
    "colab": {
     "base_uri": "https://localhost:8080/"
    },
    "id": "iaNhl5X3CxBv",
    "outputId": "a4ec7da8-ef67-4af8-b9f7-b3394a3066e5"
   },
   "outputs": [
    {
     "data": {
      "text/plain": [
       "array([9, 2, 1], dtype=uint8)"
      ]
     },
     "execution_count": 43,
     "metadata": {},
     "output_type": "execute_result"
    }
   ],
   "source": [
    "y_new = y_test[:3]\n",
    "y_new"
   ]
  },
  {
   "cell_type": "markdown",
   "metadata": {
    "id": "n3wwghcx7XjQ"
   },
   "source": [
    "그림으로 다시 검토를 해 보면 다음과 같다."
   ]
  },
  {
   "cell_type": "code",
   "execution_count": 44,
   "metadata": {
    "colab": {
     "base_uri": "https://localhost:8080/",
     "height": 223
    },
    "id": "7Nrkmar5CxBv",
    "outputId": "35055846-531e-490f-8b1e-db1352c8841f"
   },
   "outputs": [
    {
     "data": {
      "image/png": "[encoded data removed]",
      "text/plain": [
       "<Figure size 720x240 with 3 Axes>"
      ]
     },
     "metadata": {},
     "output_type": "display_data"
    }
   ],
   "source": [
    "plt.figure(figsize=(7.2, 2.4))\n",
    "\n",
    "# X_new(새로운 이미지 데이터)를 순차적으로 접근.\n",
    "for index, image in enumerate(X_new):\n",
    "    # 1행 3열의 서브플롯을 생성. index+1로 각 이미지가 위치할 서브플롯을 지정.\n",
    "    plt.subplot(1, 3, index + 1)\n",
    "\n",
    "    # 각 이미지를 이진 색상(binary)으로 표시하고, \"nearest\" 보간법을 사용하여 픽셀을 부드럽게 처리하지 않음.\n",
    "    plt.imshow(image, cmap=\"binary\", interpolation=\"nearest\")\n",
    "\n",
    "    # 축을 숨겨 이미지 외에 불필요한 정보가 보이지 않게 함.\n",
    "    plt.axis('off')\n",
    "\n",
    "    # 각 이미지에 대응하는 클래스 이름을 서브플롯의 제목으로 설정. 제목의 폰트 크기는 12.\n",
    "    plt.title(class_names[y_test[index]], fontsize=12)\n",
    "\n",
    "# 서브플롯 간 가로(wspace) 및 세로(hspace) 간격을 조정.\n",
    "plt.subplots_adjust(wspace=0.2, hspace=0.5)\n",
    "\n",
    "#save_fig('fashion_mnist_images_plot', tight_layout=False)\n",
    "\n",
    "plt.show()\n"
   ]
  },
  {
   "cell_type": "markdown",
   "metadata": {
    "id": "t3nE_p7ICxBw"
   },
   "source": [
    "# 함수형 API\n",
    "캘리포니아 주택 데이터셋으로 진행"
   ]
  },
  {
   "cell_type": "code",
   "execution_count": 45,
   "metadata": {
    "id": "Qwkpt9ThJxV5"
   },
   "outputs": [],
   "source": [
    "from sklearn.datasets import fetch_california_housing\n",
    "from sklearn.model_selection import train_test_split\n",
    "from sklearn.preprocessing import StandardScaler\n",
    "\n",
    "housing = fetch_california_housing()\n",
    "\n",
    "X_train_full, X_test, y_train_full, y_test = train_test_split(housing.data, housing.target, random_state=42)\n",
    "X_train, X_valid, y_train, y_valid = train_test_split(X_train_full, y_train_full, random_state=42)\n",
    "\n",
    "scaler = StandardScaler()\n",
    "X_train = scaler.fit_transform(X_train)\n",
    "X_valid = scaler.transform(X_valid)\n",
    "X_test = scaler.transform(X_test)"
   ]
  },
  {
   "cell_type": "code",
   "execution_count": 46,
   "metadata": {
    "id": "_uuXKMYhCxBw"
   },
   "outputs": [],
   "source": [
    "np.random.seed(42)\n",
    "tf.random.set_seed(42)"
   ]
  },
  {
   "cell_type": "markdown",
   "metadata": {
    "id": "TWzZT1OKSjn2"
   },
   "source": [
    "뉴런 수를 30개에서 40개로 변경...."
   ]
  },
  {
   "cell_type": "code",
   "execution_count": 47,
   "metadata": {
    "id": "Y39qvu7pCxBw"
   },
   "outputs": [],
   "source": [
    "input_ = keras.layers.Input(shape=X_train.shape[1:])\n",
    "\n",
    "# 첫 번째 은닉층. Dense 층은 40개의 뉴런을 가지며, 활성화 함수로 ReLU(Rectified Linear Unit)를 사용.\n",
    "hidden1 = keras.layers.Dense(40, activation=\"relu\")(input_)\n",
    "\n",
    "# 두 번째 은닉층. 첫 번째 은닉층(hidden1)의 출력을 입력으로 받아 40개의 뉴런을 가짐.\n",
    "hidden2 = keras.layers.Dense(40, activation=\"relu\")(hidden1)\n",
    "\n",
    "# 입력층과 두 번째 은닉층의 출력을 연결(concatenate). 이는 네트워크의 skip connection을 구성하여,\n",
    "# 입력 데이터를 직접 출력층에 전달하면서도 은닉층을 통과한 정보도 함께 사용.\n",
    "concat = keras.layers.concatenate([input_, hidden2])\n",
    "\n",
    "# 출력층. Dense 층은 1개의 뉴런을 가지며, 회귀(regression) 문제에서 사용되는 선형 활성화 함수를 기본으로 함.\n",
    "# 값을 2로 올리니 다른 코드에 문제가 생기는 현상 발견...\n",
    "output = keras.layers.Dense(1)(concat)\n",
    "\n",
    "# 모델을 정의. 입력층은 input_, 출력층은 output으로 지정.\n",
    "model = keras.models.Model(inputs=[input_], outputs=[output])"
   ]
  },
  {
   "cell_type": "markdown",
   "metadata": {
    "id": "uAEakVlKTIU3"
   },
   "source": [
    "뉴런 수가 바뀌었는지 확인하기 위해 model.summary() 코드로 다시 확인..."
   ]
  },
  {
   "cell_type": "code",
   "execution_count": 48,
   "metadata": {
    "colab": {
     "base_uri": "https://localhost:8080/"
    },
    "id": "66-EfTRUCxBw",
    "outputId": "954594c0-e2c6-4f16-955c-d85a9ac0f258"
   },
   "outputs": [
    {
     "name": "stdout",
     "output_type": "stream",
     "text": [
      "Model: \"model\"\n",
      "__________________________________________________________________________________________________\n",
      " Layer (type)                Output Shape                 Param #   Connected to                  \n",
      "==================================================================================================\n",
      " input_1 (InputLayer)        [(None, 8)]                  0         []                            \n",
      "                                                                                                  \n",
      " dense_3 (Dense)             (None, 40)                   360       ['input_1[0][0]']             \n",
      "                                                                                                  \n",
      " dense_4 (Dense)             (None, 40)                   1640      ['dense_3[0][0]']             \n",
      "                                                                                                  \n",
      " concatenate (Concatenate)   (None, 48)                   0         ['input_1[0][0]',             \n",
      "                                                                     'dense_4[0][0]']             \n",
      "                                                                                                  \n",
      " dense_5 (Dense)             (None, 1)                    49        ['concatenate[0][0]']         \n",
      "                                                                                                  \n",
      "==================================================================================================\n",
      "Total params: 2049 (8.00 KB)\n",
      "Trainable params: 2049 (8.00 KB)\n",
      "Non-trainable params: 0 (0.00 Byte)\n",
      "__________________________________________________________________________________________________\n"
     ]
    }
   ],
   "source": [
    "model.summary()"
   ]
  },
  {
   "cell_type": "code",
   "execution_count": 49,
   "metadata": {
    "colab": {
     "base_uri": "https://localhost:8080/"
    },
    "id": "auHnNkVK9rrq",
    "outputId": "f5346e68-bcaf-4f8f-8f9c-4372f75121e8"
   },
   "outputs": [
    {
     "data": {
      "text/plain": [
       "(11610, 8)"
      ]
     },
     "execution_count": 49,
     "metadata": {},
     "output_type": "execute_result"
    }
   ],
   "source": [
    "X_train.shape"
   ]
  },
  {
   "cell_type": "code",
   "execution_count": 50,
   "metadata": {
    "colab": {
     "base_uri": "https://localhost:8080/",
     "height": 533
    },
    "id": "KJ9NCmNr8N-P",
    "outputId": "68979532-099e-416c-8acb-220adaf7b917"
   },
   "outputs": [
    {
     "data": {
      "image/png": "[encoded data removed]",
      "text/plain": [
       "<IPython.core.display.Image object>"
      ]
     },
     "execution_count": 50,
     "metadata": {},
     "output_type": "execute_result"
    }
   ],
   "source": [
    "keras.utils.plot_model(model, \"housing.png\", show_shapes=True)"
   ]
  },
  {
   "cell_type": "code",
   "execution_count": 51,
   "metadata": {
    "colab": {
     "base_uri": "https://localhost:8080/"
    },
    "id": "HWoT2ZAmCxBw",
    "outputId": "4a7ba0e7-ddfe-492d-8b66-5a848127d5f6"
   },
   "outputs": [
    {
     "name": "stdout",
     "output_type": "stream",
     "text": [
      "Epoch 1/20\n",
      "363/363 [==============================] - 4s 4ms/step - loss: 2.1713 - val_loss: 1.2198\n",
      "Epoch 2/20\n",
      "363/363 [==============================] - 1s 3ms/step - loss: 0.7069 - val_loss: 0.7023\n",
      "Epoch 3/20\n",
      "363/363 [==============================] - 1s 3ms/step - loss: 0.6438 - val_loss: 0.6356\n",
      "Epoch 4/20\n",
      "363/363 [==============================] - 1s 3ms/step - loss: 0.6075 - val_loss: 0.5952\n",
      "Epoch 5/20\n",
      "363/363 [==============================] - 1s 4ms/step - loss: 0.5798 - val_loss: 0.5871\n",
      "Epoch 6/20\n",
      "363/363 [==============================] - 1s 3ms/step - loss: 0.5567 - val_loss: 0.5270\n",
      "Epoch 7/20\n",
      "363/363 [==============================] - 1s 3ms/step - loss: 0.5408 - val_loss: 0.5197\n",
      "Epoch 8/20\n",
      "363/363 [==============================] - 1s 4ms/step - loss: 0.5284 - val_loss: 0.6106\n",
      "Epoch 9/20\n",
      "363/363 [==============================] - 2s 4ms/step - loss: 0.5143 - val_loss: 0.4861\n",
      "Epoch 10/20\n",
      "363/363 [==============================] - 2s 5ms/step - loss: 0.5041 - val_loss: 0.4934\n",
      "Epoch 11/20\n",
      "363/363 [==============================] - 1s 4ms/step - loss: 0.4965 - val_loss: 0.8337\n",
      "Epoch 12/20\n",
      "363/363 [==============================] - 1s 3ms/step - loss: 0.4875 - val_loss: 0.5574\n",
      "Epoch 13/20\n",
      "363/363 [==============================] - 1s 4ms/step - loss: 0.4824 - val_loss: 0.4913\n",
      "Epoch 14/20\n",
      "363/363 [==============================] - 1s 3ms/step - loss: 0.4734 - val_loss: 0.4521\n",
      "Epoch 15/20\n",
      "363/363 [==============================] - 1s 3ms/step - loss: 0.4669 - val_loss: 0.4514\n",
      "Epoch 16/20\n",
      "363/363 [==============================] - 1s 4ms/step - loss: 0.4605 - val_loss: 0.4366\n",
      "Epoch 17/20\n",
      "363/363 [==============================] - 1s 3ms/step - loss: 0.4560 - val_loss: 0.5144\n",
      "Epoch 18/20\n",
      "363/363 [==============================] - 1s 3ms/step - loss: 0.4505 - val_loss: 0.4930\n",
      "Epoch 19/20\n",
      "363/363 [==============================] - 2s 4ms/step - loss: 0.4446 - val_loss: 0.4215\n",
      "Epoch 20/20\n",
      "363/363 [==============================] - 2s 5ms/step - loss: 0.4408 - val_loss: 0.4719\n",
      "162/162 [==============================] - 0s 2ms/step - loss: 0.4278\n"
     ]
    }
   ],
   "source": [
    "model.compile(loss=\"mean_squared_error\", optimizer=keras.optimizers.SGD(learning_rate=1e-3))\n",
    "history = model.fit(X_train, y_train, epochs=20,\n",
    "                    validation_data=(X_valid, y_valid))\n",
    "mse_test = model.evaluate(X_test, y_test)"
   ]
  },
  {
   "cell_type": "code",
   "execution_count": 52,
   "metadata": {
    "colab": {
     "base_uri": "https://localhost:8080/"
    },
    "id": "m8B4mT4OIhox",
    "outputId": "dd6a8b4a-2bcc-4118-db0c-4cd032fc6f94"
   },
   "outputs": [
    {
     "name": "stdout",
     "output_type": "stream",
     "text": [
      "1/1 [==============================] - 0s 53ms/step\n"
     ]
    },
    {
     "data": {
      "text/plain": [
       "array([[0.5699943],\n",
       "       [1.5485144],\n",
       "       [3.1810846]], dtype=float32)"
      ]
     },
     "execution_count": 52,
     "metadata": {},
     "output_type": "execute_result"
    }
   ],
   "source": [
    "X_new = X_test[:3]\n",
    "y_pred = model.predict(X_new)\n",
    "y_pred"
   ]
  },
  {
   "cell_type": "markdown",
   "metadata": {
    "id": "8S3cCXorCxBx"
   },
   "source": [
    "와이드나 딥 경로에 다른 입력 특성을 전달하면 어떻게 될지 궁금해서 작성한 코드\n",
    "(특성 0에서 4까지) 5개의 특성을 와이드 경로에 보내고 (특성 2에서 7까지) 6개의 특성을 딥 경로에 전달할 예정 \n",
    "3개의 특성(특성 2, 3, 4)은 양쪽에 모두 전달"
   ]
  },
  {
   "cell_type": "code",
   "execution_count": 53,
   "metadata": {
    "id": "vsixQGFxCxBx"
   },
   "outputs": [],
   "source": [
    "np.random.seed(42)\n",
    "tf.random.set_seed(42)"
   ]
  },
  {
   "cell_type": "code",
   "execution_count": 54,
   "metadata": {
    "id": "JvRe4hQ3CxBx"
   },
   "outputs": [],
   "source": [
    "input_A = keras.layers.Input(shape=[5], name=\"wide_input\")\n",
    "input_B = keras.layers.Input(shape=[6], name=\"deep_input\")\n",
    "hidden1 = keras.layers.Dense(30, activation=\"relu\")(input_B)\n",
    "hidden2 = keras.layers.Dense(30, activation=\"relu\")(hidden1)\n",
    "concat = keras.layers.concatenate([input_A, hidden2])\n",
    "output = keras.layers.Dense(1, name=\"output\")(concat)\n",
    "model = keras.models.Model(inputs=[input_A, input_B], outputs=[output])"
   ]
  },
  {
   "cell_type": "code",
   "execution_count": null,
   "metadata": {
    "id": "GSvPYKCsCxBx"
   },
   "outputs": [],
   "source": [
    "model.compile(loss=\"mse\", optimizer=keras.optimizers.SGD(learning_rate=1e-3))"
   ]
  },
  {
   "cell_type": "code",
   "execution_count": 56,
   "metadata": {
    "colab": {
     "base_uri": "https://localhost:8080/",
     "height": 533
    },
    "id": "LSUChzCS8mzs",
    "outputId": "7078b769-e74c-4388-a367-0a96f6ff2f10"
   },
   "outputs": [
    {
     "data": {
      "image/png": "[encoded data removed]",
      "text/plain": [
       "<IPython.core.display.Image object>"
      ]
     },
     "execution_count": 56,
     "metadata": {},
     "output_type": "execute_result"
    }
   ],
   "source": [
    "keras.utils.plot_model(model, \"housing2.png\", show_shapes=True)"
   ]
  },
  {
   "cell_type": "code",
   "execution_count": 57,
   "metadata": {
    "colab": {
     "base_uri": "https://localhost:8080/"
    },
    "id": "iIOgThw08yI0",
    "outputId": "e5c9ebe6-0c5c-40b3-cb9e-5d5cc33bdd29"
   },
   "outputs": [
    {
     "name": "stdout",
     "output_type": "stream",
     "text": [
      "Epoch 1/20\n",
      "363/363 [==============================] - 2s 4ms/step - loss: 1.7368 - val_loss: 1.8447\n",
      "Epoch 2/20\n",
      "363/363 [==============================] - 1s 3ms/step - loss: 0.7672 - val_loss: 1.0215\n",
      "Epoch 3/20\n",
      "363/363 [==============================] - 1s 4ms/step - loss: 0.6719 - val_loss: 0.7275\n",
      "Epoch 4/20\n",
      "363/363 [==============================] - 1s 4ms/step - loss: 0.6174 - val_loss: 0.6117\n",
      "Epoch 5/20\n",
      "363/363 [==============================] - 1s 3ms/step - loss: 0.5794 - val_loss: 0.5428\n",
      "Epoch 6/20\n",
      "363/363 [==============================] - 1s 4ms/step - loss: 0.5500 - val_loss: 0.5147\n",
      "Epoch 7/20\n",
      "363/363 [==============================] - 2s 5ms/step - loss: 0.5268 - val_loss: 0.5017\n",
      "Epoch 8/20\n",
      "363/363 [==============================] - 1s 4ms/step - loss: 0.5081 - val_loss: 0.4907\n",
      "Epoch 9/20\n",
      "363/363 [==============================] - 1s 3ms/step - loss: 0.4926 - val_loss: 0.4804\n",
      "Epoch 10/20\n",
      "363/363 [==============================] - 1s 3ms/step - loss: 0.4801 - val_loss: 0.4703\n",
      "Epoch 11/20\n",
      "363/363 [==============================] - 1s 3ms/step - loss: 0.4703 - val_loss: 0.4536\n",
      "Epoch 12/20\n",
      "363/363 [==============================] - 1s 3ms/step - loss: 0.4624 - val_loss: 0.4463\n",
      "Epoch 13/20\n",
      "363/363 [==============================] - 1s 3ms/step - loss: 0.4559 - val_loss: 0.4348\n",
      "Epoch 14/20\n",
      "363/363 [==============================] - 1s 4ms/step - loss: 0.4507 - val_loss: 0.4256\n",
      "Epoch 15/20\n",
      "363/363 [==============================] - 1s 4ms/step - loss: 0.4462 - val_loss: 0.4179\n",
      "Epoch 16/20\n",
      "363/363 [==============================] - 2s 5ms/step - loss: 0.4426 - val_loss: 0.4117\n",
      "Epoch 17/20\n",
      "363/363 [==============================] - 2s 5ms/step - loss: 0.4397 - val_loss: 0.4073\n",
      "Epoch 18/20\n",
      "363/363 [==============================] - 1s 3ms/step - loss: 0.4370 - val_loss: 0.4038\n",
      "Epoch 19/20\n",
      "363/363 [==============================] - 1s 3ms/step - loss: 0.4342 - val_loss: 0.4017\n",
      "Epoch 20/20\n",
      "363/363 [==============================] - 1s 3ms/step - loss: 0.4323 - val_loss: 0.4005\n"
     ]
    }
   ],
   "source": [
    "X_train_A, X_train_B = X_train[:, :5], X_train[:, 2:]\n",
    "X_valid_A, X_valid_B = X_valid[:, :5], X_valid[:, 2:]\n",
    "X_test_A, X_test_B = X_test[:, :5], X_test[:, 2:]\n",
    "X_new_A, X_new_B = X_test_A[:3], X_test_B[:3]\n",
    "\n",
    "history = model.fit((X_train_A, X_train_B), y_train, epochs=20,\n",
    "                    validation_data=((X_valid_A, X_valid_B), y_valid))"
   ]
  },
  {
   "cell_type": "code",
   "execution_count": 58,
   "metadata": {
    "colab": {
     "base_uri": "https://localhost:8080/"
    },
    "id": "ixWqvEdaI3it",
    "outputId": "bb7550ac-d490-4cd9-fbaf-27fbd7006d64"
   },
   "outputs": [
    {
     "name": "stdout",
     "output_type": "stream",
     "text": [
      "162/162 [==============================] - 0s 2ms/step - loss: 0.4260\n",
      "1/1 [==============================] - 0s 50ms/step\n"
     ]
    },
    {
     "data": {
      "text/plain": [
       "array([[0.39715588],\n",
       "       [1.9401858 ],\n",
       "       [3.3560505 ]], dtype=float32)"
      ]
     },
     "execution_count": 58,
     "metadata": {},
     "output_type": "execute_result"
    }
   ],
   "source": [
    "mse_test = model.evaluate((X_test_A, X_test_B), y_test)\n",
    "y_pred = model.predict((X_new_A, X_new_B))\n",
    "y_pred"
   ]
  },
  {
   "cell_type": "markdown",
   "metadata": {
    "id": "WI45FYLwCxBy"
   },
   "source": [
    "# 저장과 복원"
   ]
  },
  {
   "cell_type": "code",
   "execution_count": 59,
   "metadata": {
    "id": "UkpuUDCGCxBy"
   },
   "outputs": [],
   "source": [
    "model.save(\"my_keras_model.keras\")"
   ]
  },
  {
   "cell_type": "code",
   "execution_count": 60,
   "metadata": {
    "id": "Vv6rr7DcCxBy"
   },
   "outputs": [],
   "source": [
    "model2 = keras.models.load_model(\"my_keras_model.keras\")"
   ]
  },
  {
   "cell_type": "code",
   "execution_count": 61,
   "metadata": {
    "colab": {
     "base_uri": "https://localhost:8080/"
    },
    "id": "a1uuPIn2iVWv",
    "outputId": "26544bad-08ca-441d-cafd-30841ad5dcb5"
   },
   "outputs": [
    {
     "name": "stdout",
     "output_type": "stream",
     "text": [
      "Model: \"model_1\"\n",
      "__________________________________________________________________________________________________\n",
      " Layer (type)                Output Shape                 Param #   Connected to                  \n",
      "==================================================================================================\n",
      " deep_input (InputLayer)     [(None, 6)]                  0         []                            \n",
      "                                                                                                  \n",
      " dense_6 (Dense)             (None, 30)                   210       ['deep_input[0][0]']          \n",
      "                                                                                                  \n",
      " wide_input (InputLayer)     [(None, 5)]                  0         []                            \n",
      "                                                                                                  \n",
      " dense_7 (Dense)             (None, 30)                   930       ['dense_6[0][0]']             \n",
      "                                                                                                  \n",
      " concatenate_1 (Concatenate  (None, 35)                   0         ['wide_input[0][0]',          \n",
      " )                                                                   'dense_7[0][0]']             \n",
      "                                                                                                  \n",
      " output (Dense)              (None, 1)                    36        ['concatenate_1[0][0]']       \n",
      "                                                                                                  \n",
      "==================================================================================================\n",
      "Total params: 1176 (4.59 KB)\n",
      "Trainable params: 1176 (4.59 KB)\n",
      "Non-trainable params: 0 (0.00 Byte)\n",
      "__________________________________________________________________________________________________\n"
     ]
    }
   ],
   "source": [
    "model.summary()"
   ]
  },
  {
   "cell_type": "code",
   "execution_count": 62,
   "metadata": {
    "colab": {
     "base_uri": "https://localhost:8080/"
    },
    "id": "6ErCVw4miYjn",
    "outputId": "e574d513-08e0-4164-872d-9be6f471d812"
   },
   "outputs": [
    {
     "name": "stdout",
     "output_type": "stream",
     "text": [
      "Model: \"model_1\"\n",
      "__________________________________________________________________________________________________\n",
      " Layer (type)                Output Shape                 Param #   Connected to                  \n",
      "==================================================================================================\n",
      " deep_input (InputLayer)     [(None, 6)]                  0         []                            \n",
      "                                                                                                  \n",
      " dense_6 (Dense)             (None, 30)                   210       ['deep_input[0][0]']          \n",
      "                                                                                                  \n",
      " wide_input (InputLayer)     [(None, 5)]                  0         []                            \n",
      "                                                                                                  \n",
      " dense_7 (Dense)             (None, 30)                   930       ['dense_6[0][0]']             \n",
      "                                                                                                  \n",
      " concatenate_1 (Concatenate  (None, 35)                   0         ['wide_input[0][0]',          \n",
      " )                                                                   'dense_7[0][0]']             \n",
      "                                                                                                  \n",
      " output (Dense)              (None, 1)                    36        ['concatenate_1[0][0]']       \n",
      "                                                                                                  \n",
      "==================================================================================================\n",
      "Total params: 1176 (4.59 KB)\n",
      "Trainable params: 1176 (4.59 KB)\n",
      "Non-trainable params: 0 (0.00 Byte)\n",
      "__________________________________________________________________________________________________\n"
     ]
    }
   ],
   "source": [
    "model2.summary()"
   ]
  },
  {
   "cell_type": "code",
   "execution_count": 63,
   "metadata": {
    "colab": {
     "base_uri": "https://localhost:8080/"
    },
    "id": "gduq1JicCxBy",
    "outputId": "6351a77d-71c5-4218-a84a-f53be9c89bb1"
   },
   "outputs": [
    {
     "data": {
      "text/plain": [
       "[<keras.src.engine.input_layer.InputLayer at 0x7ebbf802e5f0>,\n",
       " <keras.src.layers.core.dense.Dense at 0x7ebbf802fdf0>,\n",
       " <keras.src.engine.input_layer.InputLayer at 0x7ebbf802d750>,\n",
       " <keras.src.layers.core.dense.Dense at 0x7ebbf809b5b0>,\n",
       " <keras.src.layers.merging.concatenate.Concatenate at 0x7ebbf802f730>,\n",
       " <keras.src.layers.core.dense.Dense at 0x7ebbf8098a30>]"
      ]
     },
     "execution_count": 63,
     "metadata": {},
     "output_type": "execute_result"
    }
   ],
   "source": [
    "model.layers"
   ]
  },
  {
   "cell_type": "code",
   "execution_count": 64,
   "metadata": {
    "colab": {
     "base_uri": "https://localhost:8080/"
    },
    "id": "PyRxBilWCxBy",
    "outputId": "87ccc72f-00d6-42a0-cec6-93ee9e29f3cf"
   },
   "outputs": [
    {
     "name": "stdout",
     "output_type": "stream",
     "text": [
      "1/1 [==============================] - 0s 62ms/step\n"
     ]
    },
    {
     "data": {
      "text/plain": [
       "array([[0.39715588],\n",
       "       [1.9401858 ],\n",
       "       [3.3560505 ]], dtype=float32)"
      ]
     },
     "execution_count": 64,
     "metadata": {},
     "output_type": "execute_result"
    }
   ],
   "source": [
    "y_pred = model2.predict((X_new_A, X_new_B))\n",
    "y_pred"
   ]
  },
  {
   "cell_type": "markdown",
   "metadata": {
    "id": "l3pszc5UCxBz"
   },
   "source": [
    "# 훈련 과정에서 콜백 사용"
   ]
  },
  {
   "cell_type": "code",
   "execution_count": 65,
   "metadata": {
    "id": "UZld3OZ0CxBz"
   },
   "outputs": [],
   "source": [
    "keras.backend.clear_session()\n",
    "np.random.seed(42)\n",
    "tf.random.set_seed(42)"
   ]
  },
  {
   "cell_type": "code",
   "execution_count": 66,
   "metadata": {
    "id": "Az_7S2OoCxBz"
   },
   "outputs": [],
   "source": [
    "model = keras.models.Sequential([\n",
    "    keras.layers.Dense(30, activation=\"relu\", input_shape=[8]),\n",
    "    keras.layers.Dense(30, activation=\"relu\"),\n",
    "    keras.layers.Dense(1)\n",
    "])"
   ]
  },
  {
   "cell_type": "code",
   "execution_count": 67,
   "metadata": {
    "colab": {
     "base_uri": "https://localhost:8080/"
    },
    "id": "duuSWVv8CxBz",
    "outputId": "6d5201ca-58a1-4355-9005-3acf243e1e42"
   },
   "outputs": [
    {
     "name": "stdout",
     "output_type": "stream",
     "text": [
      "Epoch 1/10\n",
      "363/363 [==============================] - 2s 4ms/step - loss: 2.0230 - val_loss: 1.6497\n",
      "Epoch 2/10\n",
      "363/363 [==============================] - 1s 4ms/step - loss: 0.7176 - val_loss: 0.6643\n",
      "Epoch 3/10\n",
      "363/363 [==============================] - 1s 3ms/step - loss: 0.6466 - val_loss: 0.6338\n",
      "Epoch 4/10\n",
      "363/363 [==============================] - 1s 4ms/step - loss: 0.6033 - val_loss: 0.5609\n",
      "Epoch 5/10\n",
      "363/363 [==============================] - 2s 6ms/step - loss: 0.5674 - val_loss: 0.5273\n",
      "Epoch 6/10\n",
      "363/363 [==============================] - 1s 3ms/step - loss: 0.5368 - val_loss: 0.5015\n",
      "Epoch 7/10\n",
      "363/363 [==============================] - 1s 4ms/step - loss: 0.5111 - val_loss: 0.4800\n",
      "Epoch 8/10\n",
      "363/363 [==============================] - 1s 3ms/step - loss: 0.4902 - val_loss: 0.4603\n",
      "Epoch 9/10\n",
      "363/363 [==============================] - 1s 4ms/step - loss: 0.4714 - val_loss: 0.4395\n",
      "Epoch 10/10\n",
      "363/363 [==============================] - 1s 3ms/step - loss: 0.4560 - val_loss: 0.4221\n",
      "162/162 [==============================] - 0s 2ms/step - loss: 0.4418\n"
     ]
    }
   ],
   "source": [
    "model.compile(loss=\"mse\", optimizer=keras.optimizers.SGD(learning_rate=1e-3))\n",
    "checkpoint_cb = keras.callbacks.ModelCheckpoint(\"my_keras_model.keras\", save_best_only=True)\n",
    "history = model.fit(X_train, y_train, epochs=10,\n",
    "                    validation_data=(X_valid, y_valid),\n",
    "                    callbacks=[checkpoint_cb])\n",
    "model = keras.models.load_model(\"my_keras_model.keras\") # 최상의 모델로 롤백\n",
    "mse_test = model.evaluate(X_test, y_test)"
   ]
  },
  {
   "cell_type": "code",
   "execution_count": 68,
   "metadata": {
    "colab": {
     "base_uri": "https://localhost:8080/"
    },
    "id": "7SN0dYNeCxBz",
    "outputId": "a239be6d-392d-4cf3-9359-d4d91ad58e3e"
   },
   "outputs": [
    {
     "name": "stdout",
     "output_type": "stream",
     "text": [
      "Epoch 1/100\n",
      "363/363 [==============================] - 3s 4ms/step - loss: 0.4087 - val_loss: 0.6199\n",
      "Epoch 2/100\n",
      "363/363 [==============================] - 1s 4ms/step - loss: 0.3642 - val_loss: 1.3104\n",
      "Epoch 3/100\n",
      "363/363 [==============================] - 2s 5ms/step - loss: 0.3565 - val_loss: 0.3815\n",
      "Epoch 4/100\n",
      "363/363 [==============================] - 1s 3ms/step - loss: 0.3394 - val_loss: 0.3196\n",
      "Epoch 5/100\n",
      "363/363 [==============================] - 1s 3ms/step - loss: 0.3329 - val_loss: 0.8517\n",
      "Epoch 6/100\n",
      "363/363 [==============================] - 1s 3ms/step - loss: 0.3309 - val_loss: 2.2136\n",
      "Epoch 7/100\n",
      "363/363 [==============================] - 1s 4ms/step - loss: 0.3374 - val_loss: 0.9872\n",
      "Epoch 8/100\n",
      "363/363 [==============================] - 1s 4ms/step - loss: 0.3162 - val_loss: 0.9944\n",
      "Epoch 9/100\n",
      "363/363 [==============================] - 1s 4ms/step - loss: 0.3153 - val_loss: 1.0687\n",
      "Epoch 10/100\n",
      "363/363 [==============================] - 1s 3ms/step - loss: 0.3151 - val_loss: 1.8992\n",
      "Epoch 11/100\n",
      "363/363 [==============================] - 1s 4ms/step - loss: 0.3121 - val_loss: 0.5112\n",
      "Epoch 12/100\n",
      "363/363 [==============================] - 2s 5ms/step - loss: 0.3187 - val_loss: 1.3993\n",
      "Epoch 13/100\n",
      "363/363 [==============================] - 1s 4ms/step - loss: 0.3073 - val_loss: 0.4219\n",
      "Epoch 14/100\n",
      "363/363 [==============================] - 1s 4ms/step - loss: 0.2973 - val_loss: 0.4458\n",
      "162/162 [==============================] - 0s 2ms/step - loss: 0.3390\n"
     ]
    }
   ],
   "source": [
    "model.compile(loss=\"mse\", optimizer=keras.optimizers.Adam(learning_rate=1e-3))\n",
    "early_stopping_cb = keras.callbacks.EarlyStopping(patience=10,\n",
    "                                                  restore_best_weights=True)\n",
    "history = model.fit(X_train, y_train, epochs=100,\n",
    "                    validation_data=(X_valid, y_valid),\n",
    "                    callbacks=[checkpoint_cb, early_stopping_cb])\n",
    "mse_test = model.evaluate(X_test, y_test)"
   ]
  }
 ],
 "metadata": {
  "accelerator": "GPU",
  "colab": {
   "gpuType": "T4",
   "provenance": []
  },
  "kernelspec": {
   "display_name": "Python 3",
   "name": "python3"
  },
  "language_info": {
   "codemirror_mode": {
    "name": "ipython",
    "version": 3
   },
   "file_extension": ".py",
   "mimetype": "text/x-python",
   "name": "python",
   "nbconvert_exporter": "python",
   "pygments_lexer": "ipython3",
   "version": "3.7.3"
  },
  "nav_menu": {
   "height": "264px",
   "width": "369px"
  },
  "toc": {
   "navigate_menu": true,
   "number_sections": true,
   "sideBar": true,
   "threshold": 6,
   "toc_cell": false,
   "toc_section_display": "block",
   "toc_window_display": false
  }
 },
 "nbformat": 4,
 "nbformat_minor": 0
}
